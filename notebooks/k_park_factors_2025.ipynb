{
 "cells": [
  {
   "cell_type": "code",
   "id": "initial_id",
   "metadata": {
    "collapsed": true,
    "ExecuteTime": {
     "end_time": "2025-05-28T02:21:39.128471Z",
     "start_time": "2025-05-28T02:21:28.742858Z"
    }
   },
   "source": [
    "from pybaseball import statcast\n",
    "import pandas as pd\n",
    "from datetime import date, timedelta\n",
    "\n",
    "season_start = \"2025-03-20\"\n",
    "season_end = (date.today() + timedelta(days=1)).isoformat()\n",
    "\n",
    "df = statcast(start_dt=season_start, end_dt=season_end)"
   ],
   "outputs": [
    {
     "name": "stdout",
     "output_type": "stream",
     "text": [
      "This is a large query, it may take a moment to complete\n"
     ]
    },
    {
     "name": "stderr",
     "output_type": "stream",
     "text": [
      "100%|██████████| 70/70 [00:07<00:00,  8.79it/s]\n",
      "/Users/jbrys/sportsbalf/.venv/lib/python3.9/site-packages/pybaseball/statcast.py:85: FutureWarning: The behavior of DataFrame concatenation with empty or all-NA entries is deprecated. In a future version, this will no longer exclude empty or all-NA columns when determining the result dtypes. To retain the old behavior, exclude the relevant entries before the concat operation.\n",
      "  final_data = pd.concat(dataframe_list, axis=0).convert_dtypes(convert_string=False)\n"
     ]
    }
   ],
   "execution_count": 7
  },
  {
   "metadata": {
    "ExecuteTime": {
     "end_time": "2025-05-28T02:21:39.272789Z",
     "start_time": "2025-05-28T02:21:39.142729Z"
    }
   },
   "cell_type": "code",
   "source": [
    "df = df[df['pitch_type'].notnull()]\n",
    "df['is_k'] = df['events'] == 'strikeout'\n",
    "df['is_pa'] = df['description'].isin([\n",
    "    'hit_into_play', 'hit_into_play_score', 'hit_into_play_no_out',\n",
    "    'strikeout', 'walk', 'hit_by_pitch', 'swinging_strike',\n",
    "    'foul', 'called_strike', 'bunt_foul', 'foul_tip'\n",
    "])\n",
    "\n",
    "k_by_park = df.groupby('home_team').agg({\n",
    "    'is_k': 'sum',\n",
    "    'batter': 'count'\n",
    "}).reset_index()\n",
    "\n",
    "k_by_park.columns = ['team_abbr', 'total_ks', 'total_events']\n",
    "k_by_park['k_pct'] = k_by_park['total_ks'] / k_by_park['total_events']\n",
    "\n",
    "league_avg_k = df['is_k'].sum() / df['batter'].count()\n",
    "\n",
    "# Normalize to get K park factor\n",
    "k_by_park['k_park_factor'] = k_by_park['k_pct'] / league_avg_k\n",
    "\n",
    "k_by_park = k_by_park[['team_abbr', 'k_park_factor']]\n",
    "k_by_park = k_by_park.sort_values('k_park_factor', ascending=False)\n",
    "\n",
    "print(\"League Avg K%:\", round(league_avg_k * 100, 2), \"%\")\n",
    "display(k_by_park)"
   ],
   "id": "87d9f3fbedb28304",
   "outputs": [
    {
     "name": "stdout",
     "output_type": "stream",
     "text": [
      "League Avg K%: 5.64 %\n"
     ]
    },
    {
     "data": {
      "text/plain": [
       "   team_abbr  k_park_factor\n",
       "17       MIN       1.140288\n",
       "13       LAA       1.108756\n",
       "11       HOU       1.094613\n",
       "10       DET       1.092226\n",
       "23       SEA       1.064945\n",
       "16       MIL       1.053896\n",
       "22        SD       1.053407\n",
       "1        ATL       1.051498\n",
       "7        CLE       1.047694\n",
       "18       NYM       1.046155\n",
       "8        COL       1.044488\n",
       "19       NYY       1.026697\n",
       "20       PHI       1.021791\n",
       "27       TEX       1.016961\n",
       "15       MIA       1.006645\n",
       "3        BAL       1.005679\n",
       "26        TB       0.988801\n",
       "6        CIN       0.988388\n",
       "28       TOR       0.984289\n",
       "14       LAD       0.974573\n",
       "5        CHC       0.955009\n",
       "24        SF        0.94646\n",
       "4        BOS       0.941389\n",
       "29       WSH       0.941148\n",
       "9        CWS        0.93716\n",
       "0        ATH        0.93406\n",
       "21       PIT       0.933826\n",
       "25       STL       0.898051\n",
       "12        KC       0.891856\n",
       "2         AZ       0.860548"
      ],
      "text/html": [
       "<div>\n",
       "<style scoped>\n",
       "    .dataframe tbody tr th:only-of-type {\n",
       "        vertical-align: middle;\n",
       "    }\n",
       "\n",
       "    .dataframe tbody tr th {\n",
       "        vertical-align: top;\n",
       "    }\n",
       "\n",
       "    .dataframe thead th {\n",
       "        text-align: right;\n",
       "    }\n",
       "</style>\n",
       "<table border=\"1\" class=\"dataframe\">\n",
       "  <thead>\n",
       "    <tr style=\"text-align: right;\">\n",
       "      <th></th>\n",
       "      <th>team_abbr</th>\n",
       "      <th>k_park_factor</th>\n",
       "    </tr>\n",
       "  </thead>\n",
       "  <tbody>\n",
       "    <tr>\n",
       "      <th>17</th>\n",
       "      <td>MIN</td>\n",
       "      <td>1.140288</td>\n",
       "    </tr>\n",
       "    <tr>\n",
       "      <th>13</th>\n",
       "      <td>LAA</td>\n",
       "      <td>1.108756</td>\n",
       "    </tr>\n",
       "    <tr>\n",
       "      <th>11</th>\n",
       "      <td>HOU</td>\n",
       "      <td>1.094613</td>\n",
       "    </tr>\n",
       "    <tr>\n",
       "      <th>10</th>\n",
       "      <td>DET</td>\n",
       "      <td>1.092226</td>\n",
       "    </tr>\n",
       "    <tr>\n",
       "      <th>23</th>\n",
       "      <td>SEA</td>\n",
       "      <td>1.064945</td>\n",
       "    </tr>\n",
       "    <tr>\n",
       "      <th>16</th>\n",
       "      <td>MIL</td>\n",
       "      <td>1.053896</td>\n",
       "    </tr>\n",
       "    <tr>\n",
       "      <th>22</th>\n",
       "      <td>SD</td>\n",
       "      <td>1.053407</td>\n",
       "    </tr>\n",
       "    <tr>\n",
       "      <th>1</th>\n",
       "      <td>ATL</td>\n",
       "      <td>1.051498</td>\n",
       "    </tr>\n",
       "    <tr>\n",
       "      <th>7</th>\n",
       "      <td>CLE</td>\n",
       "      <td>1.047694</td>\n",
       "    </tr>\n",
       "    <tr>\n",
       "      <th>18</th>\n",
       "      <td>NYM</td>\n",
       "      <td>1.046155</td>\n",
       "    </tr>\n",
       "    <tr>\n",
       "      <th>8</th>\n",
       "      <td>COL</td>\n",
       "      <td>1.044488</td>\n",
       "    </tr>\n",
       "    <tr>\n",
       "      <th>19</th>\n",
       "      <td>NYY</td>\n",
       "      <td>1.026697</td>\n",
       "    </tr>\n",
       "    <tr>\n",
       "      <th>20</th>\n",
       "      <td>PHI</td>\n",
       "      <td>1.021791</td>\n",
       "    </tr>\n",
       "    <tr>\n",
       "      <th>27</th>\n",
       "      <td>TEX</td>\n",
       "      <td>1.016961</td>\n",
       "    </tr>\n",
       "    <tr>\n",
       "      <th>15</th>\n",
       "      <td>MIA</td>\n",
       "      <td>1.006645</td>\n",
       "    </tr>\n",
       "    <tr>\n",
       "      <th>3</th>\n",
       "      <td>BAL</td>\n",
       "      <td>1.005679</td>\n",
       "    </tr>\n",
       "    <tr>\n",
       "      <th>26</th>\n",
       "      <td>TB</td>\n",
       "      <td>0.988801</td>\n",
       "    </tr>\n",
       "    <tr>\n",
       "      <th>6</th>\n",
       "      <td>CIN</td>\n",
       "      <td>0.988388</td>\n",
       "    </tr>\n",
       "    <tr>\n",
       "      <th>28</th>\n",
       "      <td>TOR</td>\n",
       "      <td>0.984289</td>\n",
       "    </tr>\n",
       "    <tr>\n",
       "      <th>14</th>\n",
       "      <td>LAD</td>\n",
       "      <td>0.974573</td>\n",
       "    </tr>\n",
       "    <tr>\n",
       "      <th>5</th>\n",
       "      <td>CHC</td>\n",
       "      <td>0.955009</td>\n",
       "    </tr>\n",
       "    <tr>\n",
       "      <th>24</th>\n",
       "      <td>SF</td>\n",
       "      <td>0.94646</td>\n",
       "    </tr>\n",
       "    <tr>\n",
       "      <th>4</th>\n",
       "      <td>BOS</td>\n",
       "      <td>0.941389</td>\n",
       "    </tr>\n",
       "    <tr>\n",
       "      <th>29</th>\n",
       "      <td>WSH</td>\n",
       "      <td>0.941148</td>\n",
       "    </tr>\n",
       "    <tr>\n",
       "      <th>9</th>\n",
       "      <td>CWS</td>\n",
       "      <td>0.93716</td>\n",
       "    </tr>\n",
       "    <tr>\n",
       "      <th>0</th>\n",
       "      <td>ATH</td>\n",
       "      <td>0.93406</td>\n",
       "    </tr>\n",
       "    <tr>\n",
       "      <th>21</th>\n",
       "      <td>PIT</td>\n",
       "      <td>0.933826</td>\n",
       "    </tr>\n",
       "    <tr>\n",
       "      <th>25</th>\n",
       "      <td>STL</td>\n",
       "      <td>0.898051</td>\n",
       "    </tr>\n",
       "    <tr>\n",
       "      <th>12</th>\n",
       "      <td>KC</td>\n",
       "      <td>0.891856</td>\n",
       "    </tr>\n",
       "    <tr>\n",
       "      <th>2</th>\n",
       "      <td>AZ</td>\n",
       "      <td>0.860548</td>\n",
       "    </tr>\n",
       "  </tbody>\n",
       "</table>\n",
       "</div>"
      ]
     },
     "metadata": {},
     "output_type": "display_data"
    }
   ],
   "execution_count": 8
  },
  {
   "metadata": {
    "ExecuteTime": {
     "end_time": "2025-05-28T02:21:39.294639Z",
     "start_time": "2025-05-28T02:21:39.291678Z"
    }
   },
   "cell_type": "code",
   "source": [
    "path = \"../data/raw/fangraphs_park_factors_2025.csv\"\n",
    "k_by_park.to_csv(path, index=False)"
   ],
   "id": "f9f3032fed27ab51",
   "outputs": [],
   "execution_count": 9
  },
  {
   "metadata": {
    "ExecuteTime": {
     "end_time": "2025-05-28T02:49:57.595602Z",
     "start_time": "2025-05-28T02:49:49.942955Z"
    }
   },
   "cell_type": "code",
   "source": [
    "from ingest.park_factors import compute_k_park_factors\n",
    "\n",
    "compute_k_park_factors(start=\"2025-04-01\")"
   ],
   "id": "81a5eec3a53d5543",
   "outputs": [
    {
     "name": "stdout",
     "output_type": "stream",
     "text": [
      "This is a large query, it may take a moment to complete\n"
     ]
    },
    {
     "name": "stderr",
     "output_type": "stream",
     "text": [
      "/Users/jbrys/sportsbalf/.venv/lib/python3.9/site-packages/urllib3/__init__.py:35: NotOpenSSLWarning: urllib3 v2 only supports OpenSSL 1.1.1+, currently the 'ssl' module is compiled with 'LibreSSL 2.8.3'. See: https://github.com/urllib3/urllib3/issues/3020\n",
      "  warnings.warn(\n",
      "100%|██████████| 56/56 [00:06<00:00,  9.15it/s]\n"
     ]
    }
   ],
   "execution_count": 1
  }
 ],
 "metadata": {
  "kernelspec": {
   "display_name": "Python 3",
   "language": "python",
   "name": "python3"
  },
  "language_info": {
   "codemirror_mode": {
    "name": "ipython",
    "version": 2
   },
   "file_extension": ".py",
   "mimetype": "text/x-python",
   "name": "python",
   "nbconvert_exporter": "python",
   "pygments_lexer": "ipython2",
   "version": "2.7.6"
  }
 },
 "nbformat": 4,
 "nbformat_minor": 5
}
